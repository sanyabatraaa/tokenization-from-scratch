{
  "nbformat": 4,
  "nbformat_minor": 0,
  "metadata": {
    "colab": {
      "provenance": []
    },
    "kernelspec": {
      "name": "python3",
      "display_name": "Python 3"
    },
    "language_info": {
      "name": "python"
    }
  },
  "cells": [
    {
      "cell_type": "code",
      "execution_count": 40,
      "metadata": {
        "colab": {
          "base_uri": "https://localhost:8080/"
        },
        "id": "SUzrIGyQamBG",
        "outputId": "15906316-4c3e-4d79-c5aa-6ff300edd5fc"
      },
      "outputs": [
        {
          "output_type": "stream",
          "name": "stdout",
          "text": [
            "Total number of character: 20479\n",
            "I HAD always thought Jack Gisburn rather a cheap genius--though a good fellow enough--so it was no \n"
          ]
        }
      ],
      "source": [
        "with open(\"the-verdict.txt\",\"r\",encoding=\"utf-8\") as f:\n",
        "  raw_txt= f.read()\n",
        "\n",
        "print(\"Total number of character:\",len(raw_txt))\n",
        "print(raw_txt[:99])"
      ]
    },
    {
      "cell_type": "code",
      "source": [],
      "metadata": {
        "id": "z_I0xRziFWkG"
      },
      "execution_count": 40,
      "outputs": []
    },
    {
      "cell_type": "code",
      "source": [
        "import re\n",
        "text = \"Hello, world. This, is a test.\"\n",
        "result= re.split(r'(\\s)',text)\n",
        "print(result)"
      ],
      "metadata": {
        "colab": {
          "base_uri": "https://localhost:8080/"
        },
        "id": "GiK7R5yBbLZf",
        "outputId": "764a0b1f-2d21-4682-9ae6-6fad89a3e749"
      },
      "execution_count": 41,
      "outputs": [
        {
          "output_type": "stream",
          "name": "stdout",
          "text": [
            "['Hello,', ' ', 'world.', ' ', 'This,', ' ', 'is', ' ', 'a', ' ', 'test.']\n"
          ]
        }
      ]
    },
    {
      "cell_type": "code",
      "source": [
        "text = \"Hello, world. This, is a test.\"\n",
        "result= re.split(r'([,.]|\\s)',text)\n",
        "print(result)"
      ],
      "metadata": {
        "colab": {
          "base_uri": "https://localhost:8080/"
        },
        "id": "-r3vtzB3b_2V",
        "outputId": "74535c4e-6072-4729-8bb9-d3be240de752"
      },
      "execution_count": 42,
      "outputs": [
        {
          "output_type": "stream",
          "name": "stdout",
          "text": [
            "['Hello', ',', '', ' ', 'world', '.', '', ' ', 'This', ',', '', ' ', 'is', ' ', 'a', ' ', 'test', '.', '']\n"
          ]
        }
      ]
    },
    {
      "cell_type": "code",
      "source": [
        "result=[item for item in result if item.strip()]\n",
        "print(result)"
      ],
      "metadata": {
        "colab": {
          "base_uri": "https://localhost:8080/"
        },
        "id": "Uf5YZz07cRZo",
        "outputId": "7e6e2a63-cc03-4930-b647-8bb0c80a7986"
      },
      "execution_count": 43,
      "outputs": [
        {
          "output_type": "stream",
          "name": "stdout",
          "text": [
            "['Hello', ',', 'world', '.', 'This', ',', 'is', 'a', 'test', '.']\n"
          ]
        }
      ]
    },
    {
      "cell_type": "code",
      "source": [
        "text = \"Hello, world. This, is-- a test?\"\n",
        "result= re.split(r'([,.?\":;_!\\'()]|--|\\s)',text)\n",
        "result=[item for item in result if item.strip()]\n",
        "print(result)"
      ],
      "metadata": {
        "colab": {
          "base_uri": "https://localhost:8080/"
        },
        "id": "dVdNnrP-civG",
        "outputId": "8dff8448-b0c7-4859-9e6f-2f81d290300b"
      },
      "execution_count": 44,
      "outputs": [
        {
          "output_type": "stream",
          "name": "stdout",
          "text": [
            "['Hello', ',', 'world', '.', 'This', ',', 'is', '--', 'a', 'test', '?']\n"
          ]
        }
      ]
    },
    {
      "cell_type": "code",
      "source": [
        "preprocessed= re.split(r'([,.?\":;_!\\'()]|--|\\s)',raw_txt)\n",
        "preprocessed=[item for item in preprocessed if item.strip()]\n",
        "print(preprocessed[:30])"
      ],
      "metadata": {
        "colab": {
          "base_uri": "https://localhost:8080/"
        },
        "id": "eja4rFIzdva-",
        "outputId": "4640829f-171c-4e11-cde3-03542d65805f"
      },
      "execution_count": 45,
      "outputs": [
        {
          "output_type": "stream",
          "name": "stdout",
          "text": [
            "['I', 'HAD', 'always', 'thought', 'Jack', 'Gisburn', 'rather', 'a', 'cheap', 'genius', '--', 'though', 'a', 'good', 'fellow', 'enough', '--', 'so', 'it', 'was', 'no', 'great', 'surprise', 'to', 'me', 'to', 'hear', 'that', ',', 'in']\n"
          ]
        }
      ]
    },
    {
      "cell_type": "code",
      "source": [
        "print(len(preprocessed))"
      ],
      "metadata": {
        "colab": {
          "base_uri": "https://localhost:8080/"
        },
        "id": "JW70y-SadvT9",
        "outputId": "aadea0fd-053b-4a4c-b9ab-2517ab585101"
      },
      "execution_count": 46,
      "outputs": [
        {
          "output_type": "stream",
          "name": "stdout",
          "text": [
            "4690\n"
          ]
        }
      ]
    },
    {
      "cell_type": "code",
      "source": [
        "all_words= sorted(set(preprocessed))\n",
        "vocab_size= len(all_words)\n",
        "print(vocab_size)"
      ],
      "metadata": {
        "colab": {
          "base_uri": "https://localhost:8080/"
        },
        "id": "XEAscDQPdO2w",
        "outputId": "2a050350-776d-4ec4-cd78-485c814a740b"
      },
      "execution_count": 47,
      "outputs": [
        {
          "output_type": "stream",
          "name": "stdout",
          "text": [
            "1130\n"
          ]
        }
      ]
    },
    {
      "cell_type": "code",
      "source": [
        "vocab={token:integer for integer,token in enumerate(all_words)}\n",
        "for i,item in enumerate(vocab.items()):\n",
        "  print(item)\n",
        "  if i>=50:\n",
        "    break"
      ],
      "metadata": {
        "colab": {
          "base_uri": "https://localhost:8080/"
        },
        "id": "H0f9Xb1GeWCa",
        "outputId": "5c911097-6937-477f-fe6b-a4ac7d8f2c70"
      },
      "execution_count": 48,
      "outputs": [
        {
          "output_type": "stream",
          "name": "stdout",
          "text": [
            "('!', 0)\n",
            "('\"', 1)\n",
            "(\"'\", 2)\n",
            "('(', 3)\n",
            "(')', 4)\n",
            "(',', 5)\n",
            "('--', 6)\n",
            "('.', 7)\n",
            "(':', 8)\n",
            "(';', 9)\n",
            "('?', 10)\n",
            "('A', 11)\n",
            "('Ah', 12)\n",
            "('Among', 13)\n",
            "('And', 14)\n",
            "('Are', 15)\n",
            "('Arrt', 16)\n",
            "('As', 17)\n",
            "('At', 18)\n",
            "('Be', 19)\n",
            "('Begin', 20)\n",
            "('Burlington', 21)\n",
            "('But', 22)\n",
            "('By', 23)\n",
            "('Carlo', 24)\n",
            "('Chicago', 25)\n",
            "('Claude', 26)\n",
            "('Come', 27)\n",
            "('Croft', 28)\n",
            "('Destroyed', 29)\n",
            "('Devonshire', 30)\n",
            "('Don', 31)\n",
            "('Dubarry', 32)\n",
            "('Emperors', 33)\n",
            "('Florence', 34)\n",
            "('For', 35)\n",
            "('Gallery', 36)\n",
            "('Gideon', 37)\n",
            "('Gisburn', 38)\n",
            "('Gisburns', 39)\n",
            "('Grafton', 40)\n",
            "('Greek', 41)\n",
            "('Grindle', 42)\n",
            "('Grindles', 43)\n",
            "('HAD', 44)\n",
            "('Had', 45)\n",
            "('Hang', 46)\n",
            "('Has', 47)\n",
            "('He', 48)\n",
            "('Her', 49)\n",
            "('Hermia', 50)\n"
          ]
        }
      ]
    },
    {
      "cell_type": "code",
      "source": [
        "class SimpleTokenizerV1:\n",
        "  def __init__(self,vocab):\n",
        "    self.str_to_int = vocab\n",
        "    self.int_to_str = {i:s for s,i in vocab.items()}\n",
        "\n",
        "  def encode(self,text):\n",
        "    preprocessed= re.split(r'([,.?\":;_!\\'()]|--|\\s)',text)\n",
        "    preprocessed=[item for item in preprocessed if item.strip()]\n",
        "    ids= [self.str_to_int[s] for s in preprocessed]\n",
        "    return ids\n",
        "\n",
        "  def decode(self,ids):\n",
        "    text=\" \".join([self.int_to_str[i] for i in ids])\n",
        "    text = re.sub(r'\\s+([.,?!()\\'])',r'\\1',text)\n",
        "    return text\n"
      ],
      "metadata": {
        "id": "v5qg3bzzgDXg"
      },
      "execution_count": 49,
      "outputs": []
    },
    {
      "cell_type": "code",
      "source": [
        "tokenizer= SimpleTokenizerV1(vocab)\n",
        "text= \"\"\"It's the last he painted, you know,\"\n",
        "Mrs, Gisburn said with pride.\"\"\"\n",
        "ids= tokenizer.encode(text)"
      ],
      "metadata": {
        "id": "VyvdI6QU9eS-"
      },
      "execution_count": 50,
      "outputs": []
    },
    {
      "cell_type": "code",
      "source": [
        "print(ids)"
      ],
      "metadata": {
        "colab": {
          "base_uri": "https://localhost:8080/"
        },
        "id": "CVR4zZkm-Zgh",
        "outputId": "57ef4b4a-1bfa-4d79-cc94-fe1fb7218f9b"
      },
      "execution_count": 51,
      "outputs": [
        {
          "output_type": "stream",
          "name": "stdout",
          "text": [
            "[56, 2, 850, 988, 602, 533, 746, 5, 1126, 596, 5, 1, 67, 5, 38, 851, 1108, 793, 7]\n"
          ]
        }
      ]
    },
    {
      "cell_type": "code",
      "source": [
        "tokenizer.decode(ids)"
      ],
      "metadata": {
        "colab": {
          "base_uri": "https://localhost:8080/",
          "height": 36
        },
        "id": "giLWtWVF-bhC",
        "outputId": "f275f6ac-315d-4e13-c59a-a67370a0b233"
      },
      "execution_count": 52,
      "outputs": [
        {
          "output_type": "execute_result",
          "data": {
            "text/plain": [
              "'It\\' s the last he painted, you know, \" Mrs, Gisburn said with pride.'"
            ],
            "application/vnd.google.colaboratory.intrinsic+json": {
              "type": "string"
            }
          },
          "metadata": {},
          "execution_count": 52
        }
      ]
    },
    {
      "cell_type": "markdown",
      "source": [
        "**Adding** Special Context Tokens"
      ],
      "metadata": {
        "id": "5Ub2VOGX-6Hq"
      }
    },
    {
      "cell_type": "code",
      "source": [
        "all_tokens= sorted(list(set(preprocessed)))\n",
        "all_tokens.extend([\"<|endoftext|>\",\"<|unk|>\"])\n",
        "vocab= {token:integer for integer,token in enumerate(all_tokens)}"
      ],
      "metadata": {
        "id": "GfKnVzBG-jt2"
      },
      "execution_count": 53,
      "outputs": []
    },
    {
      "cell_type": "code",
      "source": [
        "len(vocab.items())"
      ],
      "metadata": {
        "colab": {
          "base_uri": "https://localhost:8080/"
        },
        "id": "-5YWMTmWAYrQ",
        "outputId": "a42efaa0-edc3-4d0e-9b1d-a32e2d9c949b"
      },
      "execution_count": 54,
      "outputs": [
        {
          "output_type": "execute_result",
          "data": {
            "text/plain": [
              "1132"
            ]
          },
          "metadata": {},
          "execution_count": 54
        }
      ]
    },
    {
      "cell_type": "code",
      "source": [
        "for i,item in enumerate(list(vocab.items())[-5:]):\n",
        "  print(item)"
      ],
      "metadata": {
        "colab": {
          "base_uri": "https://localhost:8080/"
        },
        "id": "AxlQbT-VAbgv",
        "outputId": "418c4eb3-0e4d-40d5-d6d8-b63218557d47"
      },
      "execution_count": 55,
      "outputs": [
        {
          "output_type": "stream",
          "name": "stdout",
          "text": [
            "('younger', 1127)\n",
            "('your', 1128)\n",
            "('yourself', 1129)\n",
            "('<|endoftext|>', 1130)\n",
            "('<|unk|>', 1131)\n"
          ]
        }
      ]
    },
    {
      "cell_type": "code",
      "source": [
        "class SimpleTokenizerV2:\n",
        "    def __init__(self, vocab):\n",
        "        self.str_to_int = vocab\n",
        "        self.int_to_str = { i:s for s,i in vocab.items()}\n",
        "\n",
        "    def encode(self, text):\n",
        "        preprocessed = re.split(r'([,.:;?_!\"()\\']|--|\\s)', text)\n",
        "        preprocessed = [item.strip() for item in preprocessed if item.strip()]\n",
        "        preprocessed = [\n",
        "            item if item in self.str_to_int\n",
        "            else \"<|unk|>\" for item in preprocessed\n",
        "        ]\n",
        "\n",
        "        ids = [self.str_to_int[s] for s in preprocessed]\n",
        "        return ids\n",
        "\n",
        "    def decode(self, ids):\n",
        "        text = \" \".join([self.int_to_str[i] for i in ids])\n",
        "        # Replace spaces before the specified punctuations\n",
        "        text = re.sub(r'\\s+([,.:;?!\"()\\'])', r'\\1', text)\n",
        "        return text"
      ],
      "metadata": {
        "id": "EghIJLgIBCqd"
      },
      "execution_count": 56,
      "outputs": []
    },
    {
      "cell_type": "code",
      "source": [
        "tokenizer= SimpleTokenizerV2(vocab)\n",
        "text1=\"Hello, do you like tea?\"\n",
        "text2=\"In the sunlit terraces of the palace.\"\n",
        "text=\" <|endoftext|> \".join((text1,text2))"
      ],
      "metadata": {
        "id": "pYvSVtkyFtkc"
      },
      "execution_count": 57,
      "outputs": []
    },
    {
      "cell_type": "code",
      "source": [
        "print(text)"
      ],
      "metadata": {
        "colab": {
          "base_uri": "https://localhost:8080/"
        },
        "id": "TaLjcZKzGE1y",
        "outputId": "e3c48a7b-541a-4cac-eb84-2bb53899b6b5"
      },
      "execution_count": 58,
      "outputs": [
        {
          "output_type": "stream",
          "name": "stdout",
          "text": [
            "Hello, do you like tea? <|endoftext|> In the sunlit terraces of the palace.\n"
          ]
        }
      ]
    },
    {
      "cell_type": "code",
      "source": [
        "tokenizer.encode(text)"
      ],
      "metadata": {
        "colab": {
          "base_uri": "https://localhost:8080/"
        },
        "id": "TYuZdCFyGRBW",
        "outputId": "2858368e-375f-45c5-ba7e-8e759780041e"
      },
      "execution_count": 59,
      "outputs": [
        {
          "output_type": "execute_result",
          "data": {
            "text/plain": [
              "[1131, 5, 355, 1126, 628, 975, 10, 1130, 55, 988, 956, 984, 722, 988, 1131, 7]"
            ]
          },
          "metadata": {},
          "execution_count": 59
        }
      ]
    },
    {
      "cell_type": "code",
      "source": [
        "tokenizer.decode(tokenizer.encode(text))"
      ],
      "metadata": {
        "colab": {
          "base_uri": "https://localhost:8080/",
          "height": 36
        },
        "id": "Oxe49OrXIX44",
        "outputId": "55234b2e-1ff4-4d65-a58b-0cc720b0db28"
      },
      "execution_count": 60,
      "outputs": [
        {
          "output_type": "execute_result",
          "data": {
            "text/plain": [
              "'<|unk|>, do you like tea? <|endoftext|> In the sunlit terraces of the <|unk|>.'"
            ],
            "application/vnd.google.colaboratory.intrinsic+json": {
              "type": "string"
            }
          },
          "metadata": {},
          "execution_count": 60
        }
      ]
    },
    {
      "cell_type": "code",
      "source": [
        "#BPE\n",
        "#HANDLES OOV AND HAS LESS VOCAB SIZE\n",
        "#SUBWORD TOKENIZATION"
      ],
      "metadata": {
        "id": "oUG3SnfVFYEZ"
      },
      "execution_count": 61,
      "outputs": []
    },
    {
      "cell_type": "code",
      "source": [
        "!pip3 install tiktoken"
      ],
      "metadata": {
        "colab": {
          "base_uri": "https://localhost:8080/"
        },
        "id": "M05yUv9dFYdZ",
        "outputId": "7b5c9d61-fc23-41ca-9777-8440d9451b74"
      },
      "execution_count": 62,
      "outputs": [
        {
          "output_type": "stream",
          "name": "stdout",
          "text": [
            "Requirement already satisfied: tiktoken in /usr/local/lib/python3.11/dist-packages (0.9.0)\n",
            "Requirement already satisfied: regex>=2022.1.18 in /usr/local/lib/python3.11/dist-packages (from tiktoken) (2024.11.6)\n",
            "Requirement already satisfied: requests>=2.26.0 in /usr/local/lib/python3.11/dist-packages (from tiktoken) (2.32.3)\n",
            "Requirement already satisfied: charset-normalizer<4,>=2 in /usr/local/lib/python3.11/dist-packages (from requests>=2.26.0->tiktoken) (3.4.2)\n",
            "Requirement already satisfied: idna<4,>=2.5 in /usr/local/lib/python3.11/dist-packages (from requests>=2.26.0->tiktoken) (3.10)\n",
            "Requirement already satisfied: urllib3<3,>=1.21.1 in /usr/local/lib/python3.11/dist-packages (from requests>=2.26.0->tiktoken) (2.4.0)\n",
            "Requirement already satisfied: certifi>=2017.4.17 in /usr/local/lib/python3.11/dist-packages (from requests>=2.26.0->tiktoken) (2025.7.9)\n"
          ]
        }
      ]
    },
    {
      "cell_type": "code",
      "source": [
        "import tiktoken\n",
        "tokenizer= tiktoken.get_encoding(\"gpt2\")\n",
        "text = (\n",
        "    \"Hello, do you like tea? <|endoftext|> In the sunlit terraces\"\n",
        "     \"of someunknownPlace.\"\n",
        ")\n",
        "integer= tokenizer.encode(text,allowed_special={\"<|endoftext|>\"})\n",
        "print(integer)\n",
        "string = tokenizer.decode(integer)\n",
        "print(string)"
      ],
      "metadata": {
        "colab": {
          "base_uri": "https://localhost:8080/"
        },
        "id": "CgQs8Z47FYgR",
        "outputId": "abc98d14-f800-4af5-c5c3-bf4c4fe257ea"
      },
      "execution_count": 63,
      "outputs": [
        {
          "output_type": "stream",
          "name": "stdout",
          "text": [
            "[15496, 11, 466, 345, 588, 8887, 30, 220, 50256, 554, 262, 4252, 18250, 8812, 2114, 1659, 617, 34680, 27271, 13]\n",
            "Hello, do you like tea? <|endoftext|> In the sunlit terracesof someunknownPlace.\n"
          ]
        }
      ]
    },
    {
      "cell_type": "code",
      "source": [
        "#data sampling with sliding window"
      ],
      "metadata": {
        "id": "YPc-tVeSFYjZ"
      },
      "execution_count": 64,
      "outputs": []
    },
    {
      "cell_type": "code",
      "source": [
        "with open(\"the-verdict.txt\",\"r\",encoding=\"utf-8\") as f:\n",
        "  raw_txt= f.read()\n",
        "\n",
        "encoded_txt= tokenizer.encode(raw_txt)\n",
        "print(len(encoded_txt))"
      ],
      "metadata": {
        "colab": {
          "base_uri": "https://localhost:8080/"
        },
        "id": "ZZGp-2YdFYmM",
        "outputId": "33e8576d-1bb8-4eb1-dd91-7556b30ee99f"
      },
      "execution_count": 65,
      "outputs": [
        {
          "output_type": "stream",
          "name": "stdout",
          "text": [
            "5145\n"
          ]
        }
      ]
    },
    {
      "cell_type": "code",
      "source": [
        "context_size=10\n",
        "x=encoded_txt[:context_size]\n",
        "y=encoded_txt[1:context_size+1]\n",
        "print(x,y)"
      ],
      "metadata": {
        "colab": {
          "base_uri": "https://localhost:8080/"
        },
        "id": "qEjM7IMuFYoa",
        "outputId": "68a69287-e4ba-4aa7-e8da-761f2af8d697"
      },
      "execution_count": 66,
      "outputs": [
        {
          "output_type": "stream",
          "name": "stdout",
          "text": [
            "[40, 367, 2885, 1464, 1807, 3619, 402, 271, 10899, 2138] [367, 2885, 1464, 1807, 3619, 402, 271, 10899, 2138, 257]\n"
          ]
        }
      ]
    },
    {
      "cell_type": "code",
      "source": [
        "for i in range(1,context_size+1):\n",
        "  context= encoded_txt[:i]\n",
        "  target= encoded_txt[i]\n",
        "  print(context,target)\n",
        "  print(tokenizer.decode(context),tokenizer.decode([target]))"
      ],
      "metadata": {
        "colab": {
          "base_uri": "https://localhost:8080/"
        },
        "id": "cZwmOqtZFYr0",
        "outputId": "5dc990e6-6475-4bc2-a857-dc546f5f791d"
      },
      "execution_count": 67,
      "outputs": [
        {
          "output_type": "stream",
          "name": "stdout",
          "text": [
            "[40] 367\n",
            "I  H\n",
            "[40, 367] 2885\n",
            "I H AD\n",
            "[40, 367, 2885] 1464\n",
            "I HAD  always\n",
            "[40, 367, 2885, 1464] 1807\n",
            "I HAD always  thought\n",
            "[40, 367, 2885, 1464, 1807] 3619\n",
            "I HAD always thought  Jack\n",
            "[40, 367, 2885, 1464, 1807, 3619] 402\n",
            "I HAD always thought Jack  G\n",
            "[40, 367, 2885, 1464, 1807, 3619, 402] 271\n",
            "I HAD always thought Jack G is\n",
            "[40, 367, 2885, 1464, 1807, 3619, 402, 271] 10899\n",
            "I HAD always thought Jack Gis burn\n",
            "[40, 367, 2885, 1464, 1807, 3619, 402, 271, 10899] 2138\n",
            "I HAD always thought Jack Gisburn  rather\n",
            "[40, 367, 2885, 1464, 1807, 3619, 402, 271, 10899, 2138] 257\n",
            "I HAD always thought Jack Gisburn rather  a\n"
          ]
        }
      ]
    },
    {
      "cell_type": "code",
      "source": [
        "# implement data loader\n",
        "from torch.utils.data import Dataset,DataLoader\n",
        "import torch\n",
        "class GPTDatasetV1(Dataset):\n",
        "  def __init__(self,txt,tokenizer,max_length,stride):\n",
        "    self.input_ids=[]\n",
        "    self.target_ids=[]\n",
        "\n",
        "    token_ids= tokenizer.encode(txt,allowed_special={\"<|endoftext|>\"})\n",
        "    for i in range(0,len(token_ids)-max_length,stride):\n",
        "      input_chunk= token_ids[i:i+max_length]\n",
        "      target_chunk= token_ids[i+1:i+max_length+1]\n",
        "      self.input_ids.append(torch.tensor(input_chunk))\n",
        "      self.target_ids.append(torch.tensor(target_chunk))\n",
        "\n",
        "  def __len__(self):\n",
        "      return len(self.input_ids)\n",
        "\n",
        "  def __getitem__(self,idx):\n",
        "    return self.input_ids[idx],self.target_ids[idx]"
      ],
      "metadata": {
        "id": "AUmg8FImnfsb"
      },
      "execution_count": 81,
      "outputs": []
    },
    {
      "cell_type": "code",
      "source": [
        "def create_dataloader_v1(txt,batch_Size=4,max_length=256,stride=128,shuffle=True,drop_last=True,num_workers=0):\n",
        "  tokenizer= tiktoken.get_encoding(\"gpt2\")\n",
        "  dataset= GPTDatasetV1(txt,tokenizer,max_length,stride)\n",
        "  dataloader= DataLoader(dataset,batch_size=batch_Size,shuffle=shuffle,drop_last=drop_last,num_workers=num_workers)\n",
        "  return dataloader"
      ],
      "metadata": {
        "id": "fmnbFRkZnf45"
      },
      "execution_count": 82,
      "outputs": []
    },
    {
      "cell_type": "code",
      "source": [
        "with open(\"the-verdict.txt\",\"r\",encoding=\"utf-8\") as f:\n",
        "  raw_txt= f.read()"
      ],
      "metadata": {
        "id": "OEghvSOrnf9J"
      },
      "execution_count": 84,
      "outputs": []
    },
    {
      "cell_type": "code",
      "source": [
        "import torch\n",
        "dataloader= create_dataloader_v1(raw_txt,batch_Size=4,max_length=20,stride=5,shuffle=True,drop_last=True,num_workers=0)\n",
        "data_iter= iter(dataloader)\n",
        "first_batch= next(data_iter)\n",
        "print(first_batch)"
      ],
      "metadata": {
        "id": "3OIiK-IxngAi",
        "colab": {
          "base_uri": "https://localhost:8080/"
        },
        "outputId": "0b72e5dd-9d47-4ba0-a7c3-e36476f6ea44"
      },
      "execution_count": 86,
      "outputs": [
        {
          "output_type": "stream",
          "name": "stdout",
          "text": [
            "[tensor([[  379,   790,   966,   262,  3512,   286, 14081,  2415,   284,   307,\n",
            "         13055,   366, 11576,   306,     1,   780,   673,   373, 10032,   286],\n",
            "        [ 1297,  9074,    13,   520,  5493,   523,   618,   673,  2540,   284,\n",
            "           336,   321,   647,  1223,   546,   607,  8098,    13,   314,  3505],\n",
            "        [   12,  5532, 14000,    13,   764,   764,   764,   198,   198,     1,\n",
            "            40,  2900,   736,   284,   616,   670,    11,   290,  1816,   319],\n",
            "        [ 2666,   572,  1701,   198,   198,  1544,  6204,   510,   290,  8104,\n",
            "           465,  1021,   319,   616,  8163,   351,   257,  6487,    13,   366]]), tensor([[  790,   966,   262,  3512,   286, 14081,  2415,   284,   307, 13055,\n",
            "           366, 11576,   306,     1,   780,   673,   373, 10032,   286,   852],\n",
            "        [ 9074,    13,   520,  5493,   523,   618,   673,  2540,   284,   336,\n",
            "           321,   647,  1223,   546,   607,  8098,    13,   314,  3505,  1972],\n",
            "        [ 5532, 14000,    13,   764,   764,   764,   198,   198,     1,    40,\n",
            "          2900,   736,   284,   616,   670,    11,   290,  1816,   319, 39136],\n",
            "        [  572,  1701,   198,   198,  1544,  6204,   510,   290,  8104,   465,\n",
            "          1021,   319,   616,  8163,   351,   257,  6487,    13,   366, 10049]])]\n"
          ]
        }
      ]
    },
    {
      "cell_type": "code",
      "source": [],
      "metadata": {
        "id": "Yy5FTqJpngEU"
      },
      "execution_count": null,
      "outputs": []
    },
    {
      "cell_type": "code",
      "source": [],
      "metadata": {
        "id": "kKUjIvALngHS"
      },
      "execution_count": null,
      "outputs": []
    },
    {
      "cell_type": "code",
      "source": [],
      "metadata": {
        "id": "6O1Sd27lngK3"
      },
      "execution_count": null,
      "outputs": []
    }
  ]
}